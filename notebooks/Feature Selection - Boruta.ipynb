{
 "cells": [
  {
   "cell_type": "markdown",
   "id": "08fde821",
   "metadata": {},
   "source": [
    "# 0.0 IMPORTS"
   ]
  },
  {
   "cell_type": "code",
   "execution_count": 1,
   "id": "9ad08fee",
   "metadata": {},
   "outputs": [],
   "source": [
    "import pandas as pd\n",
    "import numpy as np\n",
    "import datetime\n",
    "\n",
    "from sklearn.ensemble      import RandomForestRegressor\n",
    "from boruta import BorutaPy"
   ]
  },
  {
   "cell_type": "markdown",
   "id": "ce6b1915",
   "metadata": {},
   "source": [
    "## 0.1. Loading Data"
   ]
  },
  {
   "cell_type": "code",
   "execution_count": 2,
   "id": "4ca6bb6c",
   "metadata": {},
   "outputs": [],
   "source": [
    "#df6 = df5.copy()\n",
    "df6 = pd.read_csv('df5.csv', delimiter=';')"
   ]
  },
  {
   "cell_type": "markdown",
   "id": "b19746a2",
   "metadata": {},
   "source": [
    "# 6.0 STEP 06: FEATURE SELECTION"
   ]
  },
  {
   "cell_type": "code",
   "execution_count": 3,
   "id": "d82873ba",
   "metadata": {},
   "outputs": [
    {
     "data": {
      "text/plain": [
       "Index(['store', 'day_of_week', 'date', 'sales', 'promo', 'school_holiday',\n",
       "       'store_type', 'assortment', 'competition_distance',\n",
       "       'competition_open_since_month', 'competition_open_since_year', 'promo2',\n",
       "       'promo2_since_week', 'promo2_since_year', 'is_promo', 'year', 'month',\n",
       "       'day', 'week_of_year', 'year_week', 'competition_since',\n",
       "       'competition_time_month', 'promo_since', 'promo_time_week',\n",
       "       'state_holiday_christmas', 'state_holiday_easter_holiday',\n",
       "       'state_holiday_public_holiday', 'state_holiday_regular_day',\n",
       "       'day_of_week_sin', 'day_of_week_cos', 'month_sin', 'month_cos',\n",
       "       'day_sin', 'day_cos', 'week_of_year_sin', 'week_of_year_cos'],\n",
       "      dtype='object')"
      ]
     },
     "execution_count": 3,
     "metadata": {},
     "output_type": "execute_result"
    }
   ],
   "source": [
    "df6.columns"
   ]
  },
  {
   "cell_type": "markdown",
   "id": "66597a22",
   "metadata": {},
   "source": [
    "## 6.1 Split original DataFrame into train and test"
   ]
  },
  {
   "cell_type": "code",
   "execution_count": 4,
   "id": "fe2d3d4b",
   "metadata": {},
   "outputs": [],
   "source": [
    "# Columns date to date format:\n",
    "df6['date'] = pd.to_datetime(df6['date'])\n",
    "\n",
    "# Delete auxiliary variables\n",
    "cols_drop = ['week_of_year', 'day', 'month', 'day_of_week', 'promo_since', 'competition_since', 'year_week' ]\n",
    "df6.drop( cols_drop, axis=1, inplace=True)"
   ]
  },
  {
   "cell_type": "code",
   "execution_count": 5,
   "id": "7e751ba8",
   "metadata": {},
   "outputs": [
    {
     "name": "stdout",
     "output_type": "stream",
     "text": [
      "Fisrt date: 2013-01-01\n",
      "Fisrt date: 2015-07-31\n",
      "6 weeks is equivalent to 42 days, 0:00:00\n"
     ]
    }
   ],
   "source": [
    "# Important dates:\n",
    "print( f\"Fisrt date: {df6['date'].min().date()}\")\n",
    "print( f\"Fisrt date: {df6['date'].max().date()}\")\n",
    "print( f\"6 weeks is equivalent to {datetime.timedelta(days=6*7)}\")"
   ]
  },
  {
   "cell_type": "code",
   "execution_count": 6,
   "id": "5491960e",
   "metadata": {},
   "outputs": [],
   "source": [
    "# Split data into train and test:\n",
    "# last day - 42 days → split date: 2015-06-19\n",
    "cut_date = df6[['store', 'date']].groupby('store').max().reset_index()['date'][0] - datetime.timedelta( days = 7 * 6)\n",
    "\n",
    "# split the dataset into train and test:\n",
    "df6_train = df6[df6['date'] < cut_date]\n",
    "df6_test = df6[df6['date'] >= cut_date]\n",
    "\n",
    "# split the training set:\n",
    "X_train = df6_train.drop(['sales', 'date'], axis=1)\n",
    "y_train = df6_train['sales']\n",
    "\n",
    "# split the test set:\n",
    "X_test = df6_test.drop(['date', 'sales'], axis=1)\n",
    "y_test = df6_test['sales']"
   ]
  },
  {
   "cell_type": "markdown",
   "id": "ad3741ca",
   "metadata": {},
   "source": [
    "## 6.2. Boruta as Feature Selector"
   ]
  },
  {
   "cell_type": "code",
   "execution_count": 7,
   "id": "5d434e58",
   "metadata": {},
   "outputs": [],
   "source": [
    "# Instance Random Forest Regressor using all nucleus of processor:\n",
    "rf = RandomForestRegressor(n_jobs=-1)"
   ]
  },
  {
   "cell_type": "code",
   "execution_count": 8,
   "id": "e923d946",
   "metadata": {},
   "outputs": [
    {
     "name": "stdout",
     "output_type": "stream",
     "text": [
      "Iteration: \t1 / 100\n",
      "Confirmed: \t0\n",
      "Tentative: \t27\n",
      "Rejected: \t0\n",
      "Iteration: \t2 / 100\n",
      "Confirmed: \t0\n",
      "Tentative: \t27\n",
      "Rejected: \t0\n",
      "Iteration: \t3 / 100\n",
      "Confirmed: \t0\n",
      "Tentative: \t27\n",
      "Rejected: \t0\n",
      "Iteration: \t4 / 100\n",
      "Confirmed: \t0\n",
      "Tentative: \t27\n",
      "Rejected: \t0\n",
      "Iteration: \t5 / 100\n",
      "Confirmed: \t0\n",
      "Tentative: \t27\n",
      "Rejected: \t0\n",
      "Iteration: \t6 / 100\n",
      "Confirmed: \t0\n",
      "Tentative: \t27\n",
      "Rejected: \t0\n",
      "Iteration: \t7 / 100\n",
      "Confirmed: \t0\n",
      "Tentative: \t27\n",
      "Rejected: \t0\n",
      "Iteration: \t8 / 100\n",
      "Confirmed: \t18\n",
      "Tentative: \t0\n",
      "Rejected: \t9\n",
      "\n",
      "\n",
      "BorutaPy finished running.\n",
      "\n",
      "Iteration: \t9 / 100\n",
      "Confirmed: \t18\n",
      "Tentative: \t0\n",
      "Rejected: \t9\n"
     ]
    }
   ],
   "source": [
    "# Boruta works with arrays as inputs:\n",
    "X_train_array = X_train.values\n",
    "y_train_array = y_train.values.ravel()\n",
    "\n",
    "# Define Boruta:\n",
    "boruta = BorutaPy( estimator= rf, n_estimators= 'auto', verbose= 2, random_state= 42 ).fit( X_train_array, y_train_array )"
   ]
  },
  {
   "cell_type": "markdown",
   "id": "831d3726",
   "metadata": {},
   "source": [
    "### 6.2.1. Best Features from Boruta"
   ]
  },
  {
   "cell_type": "code",
   "execution_count": 13,
   "id": "ca5ad8ba",
   "metadata": {},
   "outputs": [],
   "source": [
    "# Seleceted features by relevance:\n",
    "cols_selected = boruta.support_.tolist() #rank of relevance\n",
    "\n",
    "#best features\n",
    "cols_selected_boruta = X_train.iloc[:, cols_selected].columns.to_list()\n",
    "\n",
    "#not selected\n",
    "cols_not_selected_boruta = list(np.setdiff1d(X_train.columns, cols_selected_boruta))"
   ]
  },
  {
   "cell_type": "code",
   "execution_count": 15,
   "id": "6dd6e054",
   "metadata": {},
   "outputs": [
    {
     "data": {
      "text/plain": [
       "['store',\n",
       " 'promo',\n",
       " 'store_type',\n",
       " 'assortment',\n",
       " 'competition_distance',\n",
       " 'competition_open_since_month',\n",
       " 'competition_open_since_year',\n",
       " 'promo2',\n",
       " 'promo2_since_week',\n",
       " 'promo2_since_year',\n",
       " 'competition_time_month',\n",
       " 'promo_time_week',\n",
       " 'day_of_week_sin',\n",
       " 'day_of_week_cos',\n",
       " 'month_cos',\n",
       " 'day_sin',\n",
       " 'day_cos',\n",
       " 'week_of_year_cos']"
      ]
     },
     "execution_count": 15,
     "metadata": {},
     "output_type": "execute_result"
    }
   ],
   "source": [
    "cols_selected_boruta"
   ]
  },
  {
   "cell_type": "code",
   "execution_count": 16,
   "id": "fb2f0a36",
   "metadata": {},
   "outputs": [
    {
     "data": {
      "text/plain": [
       "['is_promo',\n",
       " 'month_sin',\n",
       " 'school_holiday',\n",
       " 'state_holiday_christmas',\n",
       " 'state_holiday_easter_holiday',\n",
       " 'state_holiday_public_holiday',\n",
       " 'state_holiday_regular_day',\n",
       " 'week_of_year_sin',\n",
       " 'year']"
      ]
     },
     "execution_count": 16,
     "metadata": {},
     "output_type": "execute_result"
    }
   ],
   "source": [
    "cols_not_selected_boruta"
   ]
  },
  {
   "cell_type": "code",
   "execution_count": 21,
   "id": "89950caa",
   "metadata": {},
   "outputs": [],
   "source": [
    "### Cols selected by Boruta:\n",
    "cols_selected_by_boruta = ['store',\n",
    "                           'promo',\n",
    "                           'store_type',\n",
    "                           'assortment',\n",
    "                           'competition_distance',\n",
    "                           'competition_open_since_month',\n",
    "                           'competition_open_since_year',\n",
    "                           'promo2',\n",
    "                           'promo2_since_week',\n",
    "                           'promo2_since_year',\n",
    "                           'competition_time_month',\n",
    "                           'promo_time_week',\n",
    "                           'day_of_week_sin',\n",
    "                           'day_of_week_cos',\n",
    "                           'month_cos',\n",
    "                           'day_sin',\n",
    "                           'day_cos',\n",
    "                           'week_of_year_cos']\n",
    "\n",
    "### Cols not selected by Boruta:\n",
    "cols_not_selected_by_boruta = ['is_promo',\n",
    "                               'month_sin',\n",
    "                               'school_holiday',\n",
    "                               'state_holiday_christmas',\n",
    "                               'state_holiday_easter_holiday',\n",
    "                               'state_holiday_public_holiday',\n",
    "                               'state_holiday_regular_day',\n",
    "                               'week_of_year_sin',\n",
    "                               'year']"
   ]
  },
  {
   "cell_type": "markdown",
   "id": "5ba63ac9",
   "metadata": {},
   "source": [
    "## 6.3. Manual Feature Selection"
   ]
  },
  {
   "cell_type": "code",
   "execution_count": null,
   "id": "9cceeeb6",
   "metadata": {},
   "outputs": [],
   "source": [
    "# Boruta more some manual features: 'week_of_year_sin' and 'day_of_week_cos'\n",
    "cols_selected_boruta = [\n",
    "    'store',\n",
    "    'promo',\n",
    "    'store_type',\n",
    "    'assortment',\n",
    "    'competition_distance',\n",
    "    'competition_open_since_month',\n",
    "    'competition_open_since_year',\n",
    "    'promo2',\n",
    "    'promo2_since_week',\n",
    "    'promo2_since_year',\n",
    "    'competition_time_month',\n",
    "    'promo_time_week',\n",
    "    'day_of_week_sin',\n",
    "    'day_of_week_cos',\n",
    "    'month_cos',\n",
    "    'month_sin',\n",
    "    'day_sin',\n",
    "    'day_cos',\n",
    "    'week_of_year_cos',\n",
    "    'week_of_year_sin']\n",
    "\n",
    "# columns to add:\n",
    "feat_to_add = ['date', 'sales']\n",
    "\n",
    "# final features:\n",
    "cols_selected_boruta.extend( feat_to_add )"
   ]
  }
 ],
 "metadata": {
  "kernelspec": {
   "display_name": "dsproducao",
   "language": "python",
   "name": "dsproducao"
  },
  "language_info": {
   "codemirror_mode": {
    "name": "ipython",
    "version": 3
   },
   "file_extension": ".py",
   "mimetype": "text/x-python",
   "name": "python",
   "nbconvert_exporter": "python",
   "pygments_lexer": "ipython3",
   "version": "3.8.10"
  }
 },
 "nbformat": 4,
 "nbformat_minor": 5
}
